{
  "nbformat": 4,
  "nbformat_minor": 0,
  "metadata": {
    "colab": {
      "name": "Applied Data Science Capstone.ipynb",
      "provenance": [],
      "authorship_tag": "ABX9TyNG3D6YkiAKcp30M4eOkv4l",
      "include_colab_link": true
    },
    "kernelspec": {
      "name": "python3",
      "display_name": "Python 3"
    }
  },
  "cells": [
    {
      "cell_type": "markdown",
      "metadata": {
        "id": "view-in-github",
        "colab_type": "text"
      },
      "source": [
        "<a href=\"https://colab.research.google.com/github/iRaez/applied_datascience_capstone/blob/main/Applied_Data_Science_Capstone.ipynb\" target=\"_parent\"><img src=\"https://colab.research.google.com/assets/colab-badge.svg\" alt=\"Open In Colab\"/></a>"
      ]
    },
    {
      "cell_type": "code",
      "metadata": {
        "id": "cQRBpiBKvOuN"
      },
      "source": [
        ""
      ],
      "execution_count": null,
      "outputs": []
    },
    {
      "cell_type": "markdown",
      "metadata": {
        "id": "XzUShw8zvRl1"
      },
      "source": [
        "<h1>Capstone Project Notebook</h1>\r\n",
        "<h3>Applied Data Science Course</h3>\r\n",
        "\r\n",
        "This notebook will be used for the IBM Applied Data Science Course on [Coursera](https://www.coursera.org/learn/applied-data-science-capstone/home/welcome)"
      ]
    },
    {
      "cell_type": "markdown",
      "metadata": {
        "id": "Y7b4thZCvusE"
      },
      "source": [
        "## Setting up Notebook"
      ]
    },
    {
      "cell_type": "markdown",
      "metadata": {
        "id": "FBWAb7TQvzeG"
      },
      "source": [
        "<h3>Import libraries</h3>\r\n",
        "\r\n",
        "Libraries used for this project are:\r\n",
        "<br>*More will be added as the project evolves*</br>\r\n",
        "\r\n",
        "*   [Pandas](https://pandas.pydata.org/pandas-docs/stable/index.html)\r\n",
        "*   [Numpy](https://numpy.org/)\r\n",
        "*   [Scikit-learn](https://scikit-learn.org/stable/index.html)\r\n",
        "*   [Matplotlib](https://matplotlib.org/)\r\n",
        "\r\n",
        "\r\n",
        "\r\n"
      ]
    },
    {
      "cell_type": "code",
      "metadata": {
        "id": "B2Gl-Em7vq7F"
      },
      "source": [
        "import pandas as pd\r\n",
        "import numpy as np"
      ],
      "execution_count": 1,
      "outputs": []
    },
    {
      "cell_type": "code",
      "metadata": {
        "colab": {
          "base_uri": "https://localhost:8080/"
        },
        "id": "qrxI1tBgx-f0",
        "outputId": "5c20a010-4972-46b0-9589-f75b8f4677e8"
      },
      "source": [
        "print('Hello Capstone Project Course!')"
      ],
      "execution_count": 2,
      "outputs": [
        {
          "output_type": "stream",
          "text": [
            "Hello Capstone Project Course!\n"
          ],
          "name": "stdout"
        }
      ]
    },
    {
      "cell_type": "code",
      "metadata": {
        "id": "TmY_I46YyBJd"
      },
      "source": [
        ""
      ],
      "execution_count": null,
      "outputs": []
    }
  ]
}