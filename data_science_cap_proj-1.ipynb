{
 "cells": [
  {
   "cell_type": "markdown",
   "metadata": {},
   "source": [
    "# Table of contents\n",
    "1. [Introduction](#introduction)\n",
    "    1. [Project Scope](#bizundr)\n",
    "2. [Methodology](#methodology)\n",
    "    1. [Data Requirements](#datareq)\n",
    "    2. [Data Source](#datasauce)\n",
    "    3. [Data Visualisation](#dataviz)\n",
    "    4. [Modeling to Evaluation](#modeleval)\n",
    "3. [Results](#results)\n",
    "4. [Discussion](#disc)\n",
    "5. [Conclusion](#conc)\n",
    "6. [References](#ref)\n",
    "7. [Acknowledgments](#ack)\n",
    "8. [Appendix](#appendix)"
   ]
  },
  {
   "cell_type": "markdown",
   "metadata": {},
   "source": [
    "## Introduction <a name=\"introduction\"></a>"
   ]
  },
  {
   "cell_type": "markdown",
   "metadata": {},
   "source": [
    "<H2>Introduction to the company in this capstone project</H2>\n",
    "\n",
    "*note: as this project will deal with an actual company, I am leaving out or replacing some details.*\n",
    "\n",
    "The company in this project is from the Food & Beverage industry and it is a for profit company that reserves a portion of its profits for social purposes. It provides coffee services in both traditional brick and mortar format as well as online retail shops. This company also has a central mission to be able to provide opportunities for the marginalised in society by empowering them through employability skills training as well as working with industry partners to provide employment. In order to not be a source of potentially disclosing any corporate secrets, the company in this project will be referred to as \"Bev Company\"."
   ]
  },
  {
   "cell_type": "markdown",
   "metadata": {},
   "source": [
    "### Scope of the project <a name=\"bizundr\"></a>\n",
    "*A description of the problem and a discussion of the background. (15 marks)*\n",
    "\n",
    "The recent global pandemic let to many governments enforcing a almost complete shutdown of all services aside from essential ones. \n",
    "\n",
    "One of the hardest hit industries were the Food & Beverage industry. \n",
    "In my country of residence, there was a \"Cordon sanitaire\". This resulted in only essential services to be kept in operation. Many F&B businesses were hit and forced to go out of business\n",
    "\n",
    "Companies found themselves having to get creative, and among them, Bev Company, had made changes to some of the services they offer in order to adapt to the volatile and uncertain times.\n",
    "The current trend right now within the coffee industry in my country of residence is that we find an increase in home delivery of coffee products or equipment as many corporate employees now find themselves working from home and needing their coffee fix."
   ]
  },
  {
   "cell_type": "markdown",
   "metadata": {},
   "source": [
    "### Understanding the Problem\n",
    "\n",
    "Now with majority of office workers having to continue working from home, the retail outlets that provide Bev Company's specialty coffee to them are either under utilised or not all. Bev Company has shifted and is focusing on being able to maintain and provide the same quality specialty coffee to their partners and consumers via online methods. \n",
    "\n",
    "Part of being able to do so requires them to understand certain things about their customers, chief of which is the general location they make these purchases or subscriptions from, and their purchase preferences. \n",
    "The problem to be addressed is how can their services be provided to their customers in a timely manner that will ensure freshness that is up to their service standards.\n",
    "The other issue that should be addressed is to still maintain the core of being able to provide sustainable employment to their beneficiaries."
   ]
  },
  {
   "cell_type": "markdown",
   "metadata": {},
   "source": [
    "## Methodology <a name=\"methodology\"></a>"
   ]
  },
  {
   "cell_type": "markdown",
   "metadata": {},
   "source": [
    "### Data Requirements <a name=\"datareq\"></a>"
   ]
  },
  {
   "cell_type": "markdown",
   "metadata": {},
   "source": [
    "*A description of the data and how it will be used to solve the problem. (15 marks)*\n",
    "\n",
    "In order to provide a solution, the sort of data that would need to be collected is largely geolocation data of:\n",
    "\n",
    "* Residential or commerical properties \n",
    "* Location of amenities in residential areas, specifically cafes or restaurents that provide coffee services\n",
    "\n",
    "The other type of data required would be:\n",
    "* Services and products purchased from current Bev Company customers\n",
    "* Frequency or quantity of these products and services.\n",
    "\n",
    "How the data would be used to address the question would be as follows:\n",
    "\n",
    "* Knowing where the bulk of the products are purchased from would allow me to be able to narrow down places where Bev Company could focus resources in established a satellite kitchen or partnering with an existing business to provide Bev Company's coffee that meets their quality standards. Geolocation data of existing customers would help visualise that.\n",
    "* Knowing where the existing amenities in residential areas would allow me to also find under served areas which could be potentially places where Bev Company could set up pop up brewing services as a way to increase brand awareness or availability.\n",
    "* The frequency and quantity would help me know where are the hotspots that would better inform the locations Bev Company could focus on.\n"
   ]
  },
  {
   "cell_type": "markdown",
   "metadata": {},
   "source": [
    "### Data Source <a name=\"datasauce\"></a>"
   ]
  },
  {
   "cell_type": "markdown",
   "metadata": {},
   "source": [
    "There will be data from Bev Company that would contain the information on their current customers. As some of the data would be proprietary and private, I will legally not be able to include them in this notebook. However, the data that is open-sourced would be included. More information on the data source will be given in the final submission of this project."
   ]
  },
  {
   "cell_type": "code",
   "execution_count": null,
   "metadata": {},
   "outputs": [],
   "source": []
  },
  {
   "cell_type": "markdown",
   "metadata": {},
   "source": [
    "### Data Visualisation <a name=\"dataviz\"></a>"
   ]
  },
  {
   "cell_type": "markdown",
   "metadata": {},
   "source": [
    "#### Import modules"
   ]
  },
  {
   "cell_type": "markdown",
   "metadata": {},
   "source": [
    "### Modeling to Evaluation <a name=\"modeleval\"></a>"
   ]
  },
  {
   "cell_type": "markdown",
   "metadata": {},
   "source": [
    "## Results <a name=\"res\"></a>"
   ]
  },
  {
   "cell_type": "markdown",
   "metadata": {},
   "source": [
    "## Discussion <a name=\"disc\"></a>"
   ]
  },
  {
   "cell_type": "markdown",
   "metadata": {},
   "source": [
    "## Conclusion <a name=\"conc\"></a>"
   ]
  },
  {
   "cell_type": "markdown",
   "metadata": {},
   "source": [
    "## References <a name=\"ref\"></a>"
   ]
  },
  {
   "cell_type": "markdown",
   "metadata": {},
   "source": [
    "## Acknowledgements <a name=\"ack\"></a>"
   ]
  },
  {
   "cell_type": "markdown",
   "metadata": {},
   "source": [
    "## Appendix <a name=\"appendix\"></a>"
   ]
  }
 ],
 "metadata": {
  "kernelspec": {
   "display_name": "Python 3",
   "language": "python",
   "name": "python3"
  },
  "language_info": {
   "codemirror_mode": {
    "name": "ipython",
    "version": 3
   },
   "file_extension": ".py",
   "mimetype": "text/x-python",
   "name": "python",
   "nbconvert_exporter": "python",
   "pygments_lexer": "ipython3",
   "version": "3.8.5"
  }
 },
 "nbformat": 4,
 "nbformat_minor": 4
}
